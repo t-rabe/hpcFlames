{
 "cells": [
  {
   "cell_type": "code",
   "execution_count": null,
   "id": "82470313",
   "metadata": {},
   "outputs": [],
   "source": [
    "%matplotlib notebook\n",
    "import numpy as np\n",
    "import matplotlib.pyplot as plt\n",
    "import time\n",
    "import matplotlib.animation as animation\n",
    "import numpy as np\n",
    "import random\n",
    "from random import seed\n",
    "from random import randint\n",
    "from random import shuffle\n",
    "\n",
    "plt.style.use('dark_background')\n",
    "\n",
    "start = time.perf_counter()\n",
    "\n",
    "file1 =r\"/home/trr22004/flames/third_generation/output/test.csv\"\n",
    "\n",
    "def getData(file):\n",
    "    colnames = ['i','j','data']\n",
    "    File_Data = np.genfromtxt(file, delimiter=\",\")\n",
    "    side = int(np.sqrt(len(File_Data)))\n",
    "    newData = np.reshape(File_Data, (side,side,4))\n",
    "    return newData\n",
    "\n",
    "def graphData(data):\n",
    "    fig = plt.figure(figsize=(8,8))\n",
    "    ax = fig.add_subplot()\n",
    "    ax.imshow(data)\n",
    "#     ax.set(xlabel=None)\n",
    "#     ax.set(ylabel=None)\n",
    "\n",
    "#     ax.set_title('rotation = {}'.format(rot), fontsize=10)\n",
    "#     plt.axis('off')\n",
    "\n",
    "temp = getData(file1)\n",
    "graphData(temp)\n",
    "\n",
    "end = time.perf_counter()\n",
    "print(\"Total runtime:\", (end-start))"
   ]
  }
 ],
 "metadata": {
  "kernelspec": {
   "display_name": "Python 3 (ipykernel)",
   "language": "python",
   "name": "python3"
  },
  "language_info": {
   "codemirror_mode": {
    "name": "ipython",
    "version": 3
   },
   "file_extension": ".py",
   "mimetype": "text/x-python",
   "name": "python",
   "nbconvert_exporter": "python",
   "pygments_lexer": "ipython3",
   "version": "3.9.7"
  }
 },
 "nbformat": 4,
 "nbformat_minor": 5
}
